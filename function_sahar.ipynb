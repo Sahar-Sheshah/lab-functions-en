{
  "cells": [
    {
      "cell_type": "markdown",
      "metadata": {
        "id": "C8zlsWQdPBTh"
      },
      "source": [
        "# Functions"
      ]
    },
    {
      "cell_type": "markdown",
      "metadata": {
        "id": "f2gHGwcjPBTo"
      },
      "source": [
        "On this lab we will put to practice some of the concepts we have learned on this past few days.\n",
        "\n",
        "`NOTE: On this lab you should try to write all the functions yourself using only the most basic of python syntax and without functions such as len, count, sum, max, min, in, etc. Give it a try. 🧑🏻‍💻👩🏻‍💻`\n",
        "\n",
        "The cell after each exercise contains a few tests to check if your function works as expected."
      ]
    },
    {
      "cell_type": "code",
      "execution_count": 73,
      "metadata": {
        "colab": {
          "base_uri": "https://localhost:8080/",
          "height": 332
        },
        "id": "1cl68Ul4PBTr",
        "outputId": "0f3c36b5-6b90-435d-bc9b-a12c15b63a27"
      },
      "outputs": [
        {
          "output_type": "error",
          "ename": "ModuleNotFoundError",
          "evalue": "No module named 'mod'",
          "traceback": [
            "\u001b[0;31m---------------------------------------------------------------------------\u001b[0m",
            "\u001b[0;31mModuleNotFoundError\u001b[0m                       Traceback (most recent call last)",
            "\u001b[0;32m<ipython-input-73-a57a86624ec9>\u001b[0m in \u001b[0;36m<cell line: 0>\u001b[0;34m()\u001b[0m\n\u001b[0;32m----> 1\u001b[0;31m \u001b[0;32mfrom\u001b[0m \u001b[0mmod\u001b[0m\u001b[0;34m.\u001b[0m\u001b[0mtesting\u001b[0m \u001b[0;32mimport\u001b[0m \u001b[0;34m*\u001b[0m\u001b[0;34m\u001b[0m\u001b[0;34m\u001b[0m\u001b[0m\n\u001b[0m\u001b[1;32m      2\u001b[0m \u001b[0;32mimport\u001b[0m \u001b[0munittest\u001b[0m\u001b[0;34m\u001b[0m\u001b[0;34m\u001b[0m\u001b[0m\n",
            "\u001b[0;31mModuleNotFoundError\u001b[0m: No module named 'mod'",
            "",
            "\u001b[0;31m---------------------------------------------------------------------------\u001b[0;32m\nNOTE: If your import is failing due to a missing package, you can\nmanually install dependencies using either !pip or !apt.\n\nTo view examples of installing some common dependencies, click the\n\"Open Examples\" button below.\n\u001b[0;31m---------------------------------------------------------------------------\u001b[0m\n"
          ],
          "errorDetails": {
            "actions": [
              {
                "action": "open_url",
                "actionText": "Open Examples",
                "url": "/notebooks/snippets/importing_libraries.ipynb"
              }
            ]
          }
        }
      ],
      "source": [
        "from mod.testing import *\n",
        "import unittest"
      ]
    },
    {
      "cell_type": "markdown",
      "metadata": {
        "id": "H0qSmTeKPBTt"
      },
      "source": [
        "## 1. Write a function that returns the greater of two numbers"
      ]
    },
    {
      "cell_type": "code",
      "execution_count": 74,
      "metadata": {
        "id": "hu53CmbIPBTu"
      },
      "outputs": [],
      "source": [
        "def greater(a,b):\n",
        "  def greater(a,b):\n",
        "    if a > b:\n",
        "        return a\n",
        "    else:\n",
        "        return b\n",
        "#your code here"
      ]
    },
    {
      "cell_type": "code",
      "execution_count": 75,
      "metadata": {
        "colab": {
          "base_uri": "https://localhost:8080/"
        },
        "id": "0L1AxYUwPBTv",
        "outputId": "580ea56f-6616-4d7e-f596-a95d023797f2"
      },
      "outputs": [
        {
          "output_type": "stream",
          "name": "stdout",
          "text": [
            "True\n",
            "True\n",
            "True\n",
            "True\n",
            "True\n"
          ]
        }
      ],
      "source": [
        "# This will test your function\n",
        "test_greatest(greatest)\n"
      ]
    },
    {
      "cell_type": "code",
      "execution_count": 77,
      "metadata": {
        "id": "gS5mOqVbPBTx"
      },
      "outputs": [],
      "source": [
        "#your code here"
      ]
    },
    {
      "cell_type": "markdown",
      "metadata": {
        "id": "4ULFMSCZPBTy"
      },
      "source": [
        "## 2. Now write a function that returns the largest element on a list"
      ]
    },
    {
      "cell_type": "code",
      "execution_count": 76,
      "metadata": {
        "id": "EVLhT0taPBTz"
      },
      "outputs": [],
      "source": [
        "#your code here\n",
        "def greatest(lst):\n",
        "    if lst:\n",
        "        largest = lst[0]\n",
        "        for num in lst:\n",
        "            if num > largest:\n",
        "                largest = num\n",
        "        return largest\n",
        "    return None\n",
        "def test_greatest(func):\n",
        "    print(func([1, 5, 3, 9, 2]) == 9)\n",
        "    print(func([-10, -5, -2, -1]) == -1)\n",
        "    print(func([100]) == 100)\n",
        "    print(func([]) is None)\n",
        "    print(func([0, 0, 0]) == 0)\n",
        "\n",
        "\n"
      ]
    },
    {
      "cell_type": "code",
      "execution_count": 78,
      "metadata": {
        "colab": {
          "base_uri": "https://localhost:8080/"
        },
        "id": "IS1lRbOuPBT0",
        "outputId": "8eb6182a-e727-4e6e-8d8f-c3e774c08835"
      },
      "outputs": [
        {
          "output_type": "stream",
          "name": "stdout",
          "text": [
            "True\n",
            "True\n",
            "True\n",
            "True\n",
            "True\n"
          ]
        }
      ],
      "source": [
        "# This will test your function\n",
        "test_greatest(greatest)"
      ]
    },
    {
      "cell_type": "markdown",
      "metadata": {
        "id": "gw9Aj2pUPBT1"
      },
      "source": [
        "## 3. Write a function that sums all the elements on a list"
      ]
    },
    {
      "cell_type": "code",
      "execution_count": 52,
      "metadata": {
        "id": "eFhaUHL2PBT2"
      },
      "outputs": [],
      "source": [
        "def sum_all(lst):\n",
        "#your code here\n",
        "    total = 0\n",
        "    for num in lst:\n",
        "        total = total + num\n",
        "    return total\n",
        "\n",
        "def test_sum(func):\n",
        "    print(func([1, 2, 3, 4]) == 10)  # 1+2+3+4 = 10\n",
        "    print(func([-1, -2, -3, -4]) == -10)  # -1-2-3-4 = -10\n",
        "    print(func([0, 0, 0]) == 0)  # Sum of zeros\n",
        "    print(func([100]) == 100)\n",
        "    print(func([]) == 0)\n",
        "\n"
      ]
    },
    {
      "cell_type": "code",
      "execution_count": 53,
      "metadata": {
        "scrolled": true,
        "colab": {
          "base_uri": "https://localhost:8080/"
        },
        "id": "x_q-ybP2PBT3",
        "outputId": "29b25759-ef4d-4ad6-bbce-3270f6d83745"
      },
      "outputs": [
        {
          "output_type": "stream",
          "name": "stdout",
          "text": [
            "True\n",
            "True\n",
            "True\n",
            "True\n",
            "True\n"
          ]
        }
      ],
      "source": [
        "# This will test your function\n",
        "test_sum(sum_all)"
      ]
    },
    {
      "cell_type": "markdown",
      "metadata": {
        "id": "xx8zg0oQPBT5"
      },
      "source": [
        "## 4. Write another function that multiplies all the elements on a list"
      ]
    },
    {
      "cell_type": "code",
      "execution_count": 54,
      "metadata": {
        "id": "I1GgMU8fPBT5"
      },
      "outputs": [],
      "source": [
        "def mult_all(lst):\n",
        "#your code here\n",
        " def mult_all(lst):\n",
        "    if not lst:\n",
        "        return 1\n",
        "    result = 1\n",
        "    for num in lst:\n",
        "        result = result * num\n",
        "    return result\n",
        "\n",
        "def test_mult(func):\n",
        "    print(func([1, 2, 3, 4]) == 24)  # 1*2*3*4 = 24\n",
        "    print(func([5, -2, 3]) == -30)  # 5 * -2 * 3 = -30\n",
        "    print(func([1, 1, 1]) == 1)\n",
        "    print(func([7]) == 7)\n",
        "    print(func([]) == 1)\n",
        "    print(func([0, 3, 5]) == 0)\n",
        "\n"
      ]
    },
    {
      "cell_type": "code",
      "execution_count": 55,
      "metadata": {
        "scrolled": true,
        "colab": {
          "base_uri": "https://localhost:8080/"
        },
        "id": "ek3MpfJZPBT6",
        "outputId": "cfb25e09-d370-4d5f-e2f1-df076f76d404"
      },
      "outputs": [
        {
          "output_type": "stream",
          "name": "stdout",
          "text": [
            "False\n",
            "False\n",
            "False\n",
            "False\n",
            "False\n",
            "False\n"
          ]
        }
      ],
      "source": [
        "# This will test your function\n",
        "test_mult(mult_all)"
      ]
    },
    {
      "cell_type": "markdown",
      "metadata": {
        "id": "umSUcKCNPBT7"
      },
      "source": [
        "## 5. Now combine those two ideas and write a function that receives a list and either \"+\" or \"*\" and outputs acordingly"
      ]
    },
    {
      "cell_type": "code",
      "execution_count": 56,
      "metadata": {
        "id": "hLF2areFPBT7"
      },
      "outputs": [],
      "source": [
        "def oper_all(arr, oper=\"*\"):\n",
        "    result = 1 if oper == \"*\" else 0\n",
        "    for num in arr:\n",
        "        result = result * num if oper == \"*\" else result + num\n",
        "    return result if oper in [\"+\", \"*\"] else None\n",
        "\n",
        "def test_operations(func):\n",
        "    print(func([1, 2, 3, 4], \"+\") == 10)\n",
        "    print(func([1, 2, 3, 4], \"*\") == 24)\n",
        "    print(func([5, -2, 3], \"+\") == 6)\n",
        "    print(func([5, -2, 3], \"*\") == -30)\n",
        "    print(func([7], \"+\") == 7)\n",
        "    print(func([7], \"*\") == 7)\n",
        "    print(func([], \"+\") == 0)\n",
        "    print(func([], \"*\") == 1)\n",
        "    print(func([0, 3, 5], \"*\") == 0)\n",
        "    print(func([0, 3, 5], \"+\") == 8)\n",
        "    print(func([1, 2, 3], \"-\") is None)\n",
        "\n",
        "\n",
        "#your code here"
      ]
    },
    {
      "cell_type": "code",
      "execution_count": 57,
      "metadata": {
        "colab": {
          "base_uri": "https://localhost:8080/"
        },
        "id": "jTw-UenNPBT8",
        "outputId": "bb34c92e-cef8-430b-a33e-316eff4e63d9"
      },
      "outputs": [
        {
          "output_type": "stream",
          "name": "stdout",
          "text": [
            "True\n",
            "True\n",
            "True\n",
            "True\n",
            "True\n",
            "True\n",
            "True\n",
            "True\n",
            "True\n",
            "True\n",
            "True\n"
          ]
        }
      ],
      "source": [
        "# This will test your function\n",
        "test_operations(oper_all)"
      ]
    },
    {
      "cell_type": "markdown",
      "metadata": {
        "id": "IvidZ2T8PBT8"
      },
      "source": [
        "## 6. Write a function that returns the factorial of a number."
      ]
    },
    {
      "cell_type": "code",
      "execution_count": 58,
      "metadata": {
        "id": "rVmqY4cBPBT9"
      },
      "outputs": [],
      "source": [
        "def factorial(n):\n",
        "#your code here\n",
        "    result = 1\n",
        "    while n > 1:\n",
        "        result = result * n\n",
        "        n = n - 1\n",
        "    return result\n",
        "\n",
        "def test_factorial(func):\n",
        "    print(func(5) == 120)  # 5! = 5 × 4 × 3 × 2 × 1 = 120\n",
        "    print(func(0) == 1)    # 0! is defined as 1\n",
        "    print(func(1) == 1)    # 1! = 1\n",
        "    print(func(7) == 5040) # 7! = 7 × 6 × 5 × 4 × 3 × 2 × 1\n",
        "    print(func(10) == 3628800) # 10! = 3,628,800\n"
      ]
    },
    {
      "cell_type": "code",
      "execution_count": 59,
      "metadata": {
        "id": "sRVunT7vPBT9"
      },
      "outputs": [],
      "source": [
        "#factorial formula\n",
        "#n! = n * ( n - 1 ) *...*1\n",
        "\n",
        "# This code defines a function called \"factorial\" which takes an input \"n\". The function uses a for loop to iterate through the range of numbers\n",
        "# from 1 to n+1. For each number in that range, it multiplies the current value of x by the number in the range. At the end of the loop,\n",
        "# the function returns the final value of x, which will be the factorial of the input number \"n\".\n",
        "\n",
        "# The Factorial of a positive integer n is the product of all positive integers less than or equal to n.\n",
        "# For example, the factorial of 6 (written \"6!\") is 6 * 5 * 4 * 3 * 2 * 1 = 720.\n",
        "\n",
        "# So this function takes an input of any positive integer, and returns the factorial of that number."
      ]
    },
    {
      "cell_type": "code",
      "execution_count": 60,
      "metadata": {
        "colab": {
          "base_uri": "https://localhost:8080/"
        },
        "id": "RgX09ADQPBT-",
        "outputId": "2b55d3fe-cd39-4787-bac6-bf94ae931e58"
      },
      "outputs": [
        {
          "output_type": "stream",
          "name": "stdout",
          "text": [
            "True\n",
            "True\n",
            "True\n",
            "True\n",
            "True\n"
          ]
        }
      ],
      "source": [
        "# This will test your function\n",
        "test_factorial(factorial)"
      ]
    },
    {
      "cell_type": "markdown",
      "metadata": {
        "id": "Z_pM4pzjPBT-"
      },
      "source": [
        "## 7. Write a function that takes a list and returns a list of the unique values.\n",
        "\n",
        "`NOTE: You cannot use set. 🤔`"
      ]
    },
    {
      "cell_type": "code",
      "execution_count": 61,
      "metadata": {
        "id": "ISxMCkLFPBT_"
      },
      "outputs": [],
      "source": [
        "def unique(lst_un):\n",
        "    result = []\n",
        "    seen = {}\n",
        "    for item in lst_un:\n",
        "        if item not in seen:\n",
        "            result.append(item)\n",
        "            seen[item] = True\n",
        "    return result\n",
        "\n",
        "def test_unique(func):\n",
        "    print(func([1, 2, 2, 3, 4, 4, 5]) == [1, 2, 3, 4, 5])\n",
        "    print(func([\"apple\", \"banana\", \"apple\", \"orange\", \"banana\"]) == [\"apple\", \"banana\", \"orange\"])\n",
        "    print(func([7, 7, 7, 7]) == [7])\n",
        "    print(func([]) == [])\n",
        "    print(func([True, False, True, False, True]) == [True, False])\n",
        "    print(func([\"a\", \"b\", \"c\", \"a\", \"b\", \"c\"]) == [\"a\", \"b\", \"c\"])\n",
        "\n",
        "\n",
        "#your code here"
      ]
    },
    {
      "cell_type": "code",
      "execution_count": 62,
      "metadata": {
        "colab": {
          "base_uri": "https://localhost:8080/"
        },
        "id": "eyNN9cfnPBT_",
        "outputId": "7be4ee01-a4bb-4b4b-d1c6-c3123378f727"
      },
      "outputs": [
        {
          "output_type": "stream",
          "name": "stdout",
          "text": [
            "True\n",
            "True\n",
            "True\n",
            "True\n",
            "True\n",
            "True\n"
          ]
        }
      ],
      "source": [
        "# This will test your function\n",
        "test_unique(unique)"
      ]
    },
    {
      "cell_type": "markdown",
      "metadata": {
        "id": "YyXjWyrfPBUA"
      },
      "source": [
        "## 8. Write a function that returns the mode of a list, i.e.: the element that appears the most times.\n",
        "`NOTE: You should not use count... 🧐`"
      ]
    },
    {
      "cell_type": "code",
      "execution_count": 63,
      "metadata": {
        "id": "J5DXftdSPBUA"
      },
      "outputs": [],
      "source": [
        "def mode_counter(arr):\n",
        "  def mode_counter(lst):\n",
        "    freq_dict = {}\n",
        "    max_count = 0\n",
        "    mode = None\n",
        "\n",
        "    for num in lst:\n",
        "        if num in freq_dict:\n",
        "            freq_dict[num] += 1\n",
        "        else:\n",
        "            freq_dict[num] = 1\n",
        "\n",
        "        if freq_dict[num] > max_count:\n",
        "            max_count = freq_dict[num]\n",
        "            mode = num\n",
        "\n",
        "    return mode\n",
        "\n",
        "def test_mode(func):\n",
        "    print(func([1, 2, 2, 3, 3, 3, 4]) == 3)\n",
        "    print(func([\"apple\", \"banana\", \"apple\", \"orange\", \"banana\", \"banana\"]) == \"banana\")\n",
        "    print(func([7, 7, 7, 8, 8, 8, 8]) == 8)\n",
        "    print(func([1]) == 1)\n",
        "    print(func([]) is None)\n",
        "#your code here"
      ]
    },
    {
      "cell_type": "code",
      "execution_count": 64,
      "metadata": {
        "colab": {
          "base_uri": "https://localhost:8080/"
        },
        "id": "pU8zBAo0PBUB",
        "outputId": "a75ad37c-93ec-4ce8-f5e4-8e1b80be8224"
      },
      "outputs": [
        {
          "output_type": "stream",
          "name": "stdout",
          "text": [
            "False\n",
            "False\n",
            "False\n",
            "False\n",
            "True\n"
          ]
        }
      ],
      "source": [
        "# This will test your function\n",
        "test_mode(mode_counter)"
      ]
    },
    {
      "cell_type": "markdown",
      "metadata": {
        "id": "YsqqLnCMPBUC"
      },
      "source": [
        "## 9. Write a function that calculates the standard deviation of a list.\n",
        "`NOTE: Do not use any libraries or already built functions. 😉`"
      ]
    },
    {
      "cell_type": "code",
      "execution_count": 65,
      "metadata": {
        "id": "h7JVn36aPBUD"
      },
      "outputs": [],
      "source": [
        "def st_dev(list_sd):\n",
        "    total = 0\n",
        "    count = 0\n",
        "    for num in list_sd:\n",
        "        total = total + num\n",
        "        count = count + 1\n",
        "    mean = total / count if count > 0 else 0\n",
        "\n",
        "    sum_squared_diff = 0\n",
        "    for num in list_sd:\n",
        "        diff = num - mean\n",
        "        sum_squared_diff = sum_squared_diff + (diff * diff)\n",
        "\n",
        "    variance = sum_squared_diff / count if count > 0 else 0\n",
        "    stdev = variance ** 0.5\n",
        "    return stdev\n",
        "\n",
        "def test_stdev(func):\n",
        "    print(round(func([1, 2, 3, 4, 5]), 2) == 1.41)\n",
        "    print(round(func([10, 10, 10, 10]), 2) == 0.00)\n",
        "    print(round(func([1, 100]), 2) == 49.50)\n",
        "    print(round(func([3, 6, 9, 12, 15]), 2) == 4.32)\n",
        "    print(func([]) == 0)\n",
        "#your code here"
      ]
    },
    {
      "cell_type": "code",
      "execution_count": 66,
      "metadata": {
        "colab": {
          "base_uri": "https://localhost:8080/"
        },
        "id": "sSb3P3OaPBUE",
        "outputId": "8a4f12f5-0053-4ac5-de63-d5554306f155"
      },
      "outputs": [
        {
          "output_type": "stream",
          "name": "stdout",
          "text": [
            "True\n",
            "True\n",
            "True\n",
            "False\n",
            "True\n"
          ]
        }
      ],
      "source": [
        "# This will test your function\n",
        "test_stdev(st_dev)"
      ]
    },
    {
      "cell_type": "markdown",
      "metadata": {
        "id": "sKSGhEcUPBUF"
      },
      "source": [
        "## 10. Write a function to check if a string is a pangram, i.e.: if it contains all the letters of the alphabet at least once. Mind that the strings may contain characters that are not letters."
      ]
    },
    {
      "cell_type": "code",
      "execution_count": 67,
      "metadata": {
        "id": "ZAdJxUXbPBUG"
      },
      "outputs": [],
      "source": [
        "def pangram(string):\n",
        "  def pangram(string):\n",
        "    alphabet = \"abcdefghijklmnopqrstuvwxyz\"\n",
        "    found_letters = {}\n",
        "    for char in string.lower():\n",
        "        if \"a\" <= char <= \"z\":\n",
        "            found_letters[char] = True\n",
        "\n",
        "    return len(found_letters) == 26\n",
        "\n",
        "def test_pangram(func):\n",
        "    print(func(\"The quick brown fox jumps over the lazy dog\") == True)\n",
        "    print(func(\"Pack my box with five dozen liquor jugs\") == True)\n",
        "    print(func(\"Hello, world!\") == False)\n",
        "    print(func(\"ABCDEFGHIJKLMNOPQRSTUVWXYZ\") == True)\n",
        "    print(func(\"abcdefghijklmnopqrstuvwxy\") == False)\n",
        "    print(func(\"\") == False)\n",
        "\n",
        "\n",
        "#your code here"
      ]
    },
    {
      "cell_type": "code",
      "execution_count": 68,
      "metadata": {
        "colab": {
          "base_uri": "https://localhost:8080/"
        },
        "id": "7Lgf10pjPBUH",
        "outputId": "62a67be2-3762-4113-c267-4dd47db93333"
      },
      "outputs": [
        {
          "output_type": "stream",
          "name": "stdout",
          "text": [
            "False\n",
            "False\n",
            "False\n",
            "False\n",
            "False\n",
            "False\n"
          ]
        }
      ],
      "source": [
        "# This will test your function\n",
        "test_pangram(pangram)"
      ]
    },
    {
      "cell_type": "markdown",
      "metadata": {
        "id": "wGhQd2a9PBUI"
      },
      "source": [
        "## 11. Write a function that receives a string of comma separated words and returns a string of comma separated words sorted alphabetically.\n",
        "\n",
        "`NOTE: You may use sorted but not split and definitely no join! 🤪`"
      ]
    },
    {
      "cell_type": "code",
      "execution_count": 69,
      "metadata": {
        "id": "f5UGunpsPBUJ"
      },
      "outputs": [],
      "source": [
        "def sort_alpha(string):\n",
        "    words = []\n",
        "    temp = \"\"\n",
        "    for char in string:\n",
        "        if char == \",\":\n",
        "            words.append(temp)\n",
        "            temp = \"\"\n",
        "        else:\n",
        "            temp = temp + char\n",
        "\n",
        "    words.append(temp)\n",
        "\n",
        "    sorted_words = sorted(words)\n",
        "\n",
        "    result = \"\"\n",
        "    for word in sorted_words:\n",
        "        if result:\n",
        "            result = result + \",\"\n",
        "        result = result + word\n",
        "\n",
        "    return result\n",
        "\n",
        "def test_alpha(func):\n",
        "    print(func(\"banana,apple,grape\") == \"apple,banana,grape\")\n",
        "    print(func(\"dog,cat,elephant,ant\") == \"ant,cat,dog,elephant\")\n",
        "    print(func(\"z,y,x,w,v\") == \"v,w,x,y,z\")\n",
        "    print(func(\"one\") == \"one\")\n",
        "    print(func(\"\") == \"\")\n",
        "#your code here"
      ]
    },
    {
      "cell_type": "code",
      "execution_count": 70,
      "metadata": {
        "colab": {
          "base_uri": "https://localhost:8080/"
        },
        "id": "VtJW0DBNPBUK",
        "outputId": "9cb6a9e4-0c92-4a96-ed3c-4308ccfc1a35"
      },
      "outputs": [
        {
          "output_type": "stream",
          "name": "stdout",
          "text": [
            "True\n",
            "True\n",
            "True\n",
            "True\n",
            "True\n"
          ]
        }
      ],
      "source": [
        "# This will test your function\n",
        "test_alpha(sort_alpha)"
      ]
    },
    {
      "cell_type": "markdown",
      "metadata": {
        "id": "OFUSJRzgPBUK"
      },
      "source": [
        "## 12. Write a function to check if a given password is strong (at least 8 characters, at least one lower case, at least one upper case, at least one number and at least one special character). It should output True if strong and False if not."
      ]
    },
    {
      "cell_type": "code",
      "execution_count": 71,
      "metadata": {
        "id": "BPMLYu9_PBUp"
      },
      "outputs": [],
      "source": [
        "def check_pass(password):\n",
        "    if len(password) < 8:\n",
        "        return False\n",
        "\n",
        "    has_lower = has_upper = has_digit = has_special = False\n",
        "\n",
        "    for char in password:\n",
        "        if \"a\" <= char <= \"z\":\n",
        "            has_lower = True\n",
        "        elif \"A\" <= char <= \"Z\":\n",
        "            has_upper = True\n",
        "        elif \"0\" <= char <= \"9\":\n",
        "            has_digit = True\n",
        "        else:\n",
        "            has_special = True\n",
        "\n",
        "    return has_lower and has_upper and has_digit and has_special\n",
        "\n",
        "def test_pass(func):\n",
        "    print(func(\"StrongP@ss1\"))  # True\n",
        "    print(func(\"weakpass\"))  # False\n",
        "    print(func(\"Valid@123\"))  # True\n",
        "    print(func(\"12345678\"))  # False\n",
        "    print(func(\"Pass123\"))  # False\n",
        "\n",
        "\n",
        "#your code here"
      ]
    },
    {
      "cell_type": "code",
      "execution_count": 72,
      "metadata": {
        "colab": {
          "base_uri": "https://localhost:8080/"
        },
        "id": "A1Yrmw70PBUq",
        "outputId": "13fe1460-bcd6-41d9-87b0-12aad8422452"
      },
      "outputs": [
        {
          "output_type": "stream",
          "name": "stdout",
          "text": [
            "True\n",
            "False\n",
            "True\n",
            "False\n",
            "False\n"
          ]
        }
      ],
      "source": [
        "# This will test your function\n",
        "test_pass(check_pass)"
      ]
    }
  ],
  "metadata": {
    "kernelspec": {
      "display_name": "Python 3 (ipykernel)",
      "language": "python",
      "name": "python3"
    },
    "language_info": {
      "codemirror_mode": {
        "name": "ipython",
        "version": 3
      },
      "file_extension": ".py",
      "mimetype": "text/x-python",
      "name": "python",
      "nbconvert_exporter": "python",
      "pygments_lexer": "ipython3",
      "version": "3.9.13"
    },
    "vscode": {
      "interpreter": {
        "hash": "aee8b7b246df8f9039afb4144a1f6fd8d2ca17a180786b69acc140d282b71a49"
      }
    },
    "colab": {
      "provenance": []
    }
  },
  "nbformat": 4,
  "nbformat_minor": 0
}